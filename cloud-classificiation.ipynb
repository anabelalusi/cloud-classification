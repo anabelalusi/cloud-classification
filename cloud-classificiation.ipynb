# -*- coding: utf-8 -*-

# Librarias

import pandas as pd
import numpy as np
import pickle
from os import path

#%%

data = pd.read_csv('data.csv')

df = pd.DataFrame({
    'GHI': data.GHI,
    'GHI_cs': data.ghi_cs,
    'kt_modificado': data.kt_modificado,
    'delta_kt_modificado': data.delta_kt_modificado
})

df = df.set_index(pd.date_range(start='2015-01-01', periods=1440, freq='T'))

df = df.dropna()

def calculate_features(window):
        
    GHI = window['GHI']
    GHI_cs = window['GHI_cs']
    kt = window['kt_modificado']
    delta_kt_modificado = window['delta_kt_modificado']
    delta_GHI = GHI.diff().iloc[1:] 
    delta_GHI_cs = GHI_cs.diff().iloc[1:]
    
    
    features = {
        'MEAN_KT': np.mean(kt),
        'STD_KT': np.std(kt),
        'MAX_KT': np.max(kt),
        'KURT_KT': pd.Series(kt).kurt(),
        'SKEW_KT': pd.Series(kt).skew(),
        'STD_VI': np.std(np.sqrt(delta_GHI**2 + 1) / np.sqrt(delta_GHI_cs**2 + 1)),
        'RMSD': np.sqrt(np.mean((GHI - GHI_cs)**2)),
        'AVG_VARIABILITY': (delta_kt_modificado.rolling(4, center=True).std()).mean()
    }
    
    return pd.Series(features)

features_list = []

start = df.index[0]
while start + pd.DateOffset(minutes=33) <= df.index[-1]:
    end = start + pd.DateOffset(minutes=33)
    window = df[start:end]
    
    features = calculate_features(window)
    
    if not features.isnull().values.any(): 
        features_list.append(features)
    
    start = end

features_df = pd.DataFrame(features_list)

end_times = pd.date_range(start=df.index[0] + pd.DateOffset(minutes=33) - pd.Timedelta('1s'), end=df.index[-1], freq='33T')
features_df.index = end_times[:len(features_df)]

features_df.index = features_df.index.round('T')


#%% 

model_filename = path.join('cloud-classifcation.pkl')
with open(model_filename, 'rb') as f:
    model = pickle.load(f)['model']
    le = pickle.load(f)['label_encoder']
print(model)

  
predic = model.predict(features_df)

features_df['Predicciones'] = predic

numero_a_clase = {
    0: 'Ac-Cc',
    1: 'Ci-Cs',
    2: 'Clear-sky',
    3: 'Cb-Ns',
    4: 'Cu',
    5: 'Sc-St-As'
}

features_df['Cloud_class'] = features_df['Predicciones'].map(numero_a_clase)