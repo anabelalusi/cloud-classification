{
  "nbformat": 4,
  "nbformat_minor": 0,
  "metadata": {
    "colab": {
      "provenance": []
    },
    "kernelspec": {
      "name": "python3",
      "display_name": "Python 3"
    },
    "language_info": {
      "name": "python"
    }
  },
  "cells": [
    {
      "cell_type": "code",
      "source": [
        "# Libraries\n",
        "\n",
        "import pandas as pd\n",
        "import numpy as np\n",
        "import pickle\n",
        "from os import path"
      ],
      "metadata": {
        "id": "P0zgIPraHQ0e"
      },
      "execution_count": null,
      "outputs": []
    },
    {
      "cell_type": "code",
      "source": [
        "# Load the data\n",
        "\n",
        "data = pd.read_csv('data.csv')\n",
        "\n",
        "df = pd.DataFrame({\n",
        "    'GHI': data.ghi,\n",
        "    'GHI_cs': data.ghi_cs,\n",
        "    'kt_mod': data.kt_mod,\n",
        "    'delta_kt_mod': data.delta_kt_mod\n",
        "})\n",
        "\n",
        "df = df.set_index(pd.date_range(start='XXXX-XX-XX', periods=1440, freq='T')) # Complete the index to a date range starting from XXXX-XX-XX with a frequency of 1 minute (1440 periods in a day)\n",
        "\n",
        "df = df.dropna()"
      ],
      "metadata": {
        "id": "3dqW8uJlIq0g"
      },
      "execution_count": null,
      "outputs": []
    },
    {
      "cell_type": "code",
      "execution_count": null,
      "metadata": {
        "id": "MdwFPxhdGodh"
      },
      "outputs": [],
      "source": [
        "# Calculate the features\n",
        "\n",
        "def calculate_features(window):\n",
        "\n",
        "    GHI = window['GHI']\n",
        "    GHI_cs = window['GHI_cs']\n",
        "    kt = window['kt_mod']\n",
        "    delta_kt_modificado = window['delta_kt_mod']\n",
        "    delta_GHI = GHI.diff().iloc[1:]\n",
        "    delta_GHI_cs = GHI_cs.diff().iloc[1:]\n",
        "\n",
        "\n",
        "    features = {\n",
        "        'MEAN_KT': np.mean(kt),\n",
        "        'STD_KT': np.std(kt),\n",
        "        'MAX_KT': np.max(kt),\n",
        "        'KURT_KT': pd.Series(kt).kurt(),\n",
        "        'SKEW_KT': pd.Series(kt).skew(),\n",
        "        'STD_VI': np.std(np.sqrt(delta_GHI**2 + 1) / np.sqrt(delta_GHI_cs**2 + 1)),\n",
        "        'RMSD': np.sqrt(np.mean((GHI - GHI_cs)**2)),\n",
        "        'AVG_VARIABILITY': (delta_kt_mod.rolling(4, center=True).std()).mean()\n",
        "    }\n",
        "\n",
        "    return pd.Series(features)"
      ]
    },
    {
      "cell_type": "code",
      "source": [
        "# Feature list for 33 minute window\n",
        "\n",
        "features_list = []\n",
        "\n",
        "start = df.index[0]\n",
        "while start + pd.DateOffset(minutes=33) <= df.index[-1]:\n",
        "    end = start + pd.DateOffset(minutes=33)\n",
        "    window = df[start:end]\n",
        "\n",
        "    features = calculate_features(window)\n",
        "\n",
        "    if not features.isnull().values.any():\n",
        "        features_list.append(features)\n",
        "\n",
        "    start = end\n",
        "\n",
        "features_df = pd.DataFrame(features_list)\n",
        "\n",
        "end_times = pd.date_range(start=df.index[0] + pd.DateOffset(minutes=33) - pd.Timedelta('1s'), end=df.index[-1], freq='33T')\n",
        "features_df.index = end_times[:len(features_df)]\n",
        "\n",
        "features_df.index = features_df.index.round('T')"
      ],
      "metadata": {
        "id": "rm-H7LI2MYo4"
      },
      "execution_count": null,
      "outputs": []
    },
    {
      "cell_type": "code",
      "source": [
        "# Run the model\n",
        "\n",
        "model_filename = path.join('cloud-classifcation.pkl')\n",
        "with open(model_filename, 'rb') as f:\n",
        "    model = pickle.load(f)['model']\n",
        "    le = pickle.load(f)['label_encoder']\n",
        "print(model)\n",
        "\n",
        "# Make predictions\n",
        "\n",
        "predic = model.predict(features_df)\n",
        "\n",
        "features_df['Predictions'] = predic\n",
        "\n",
        "num_to_class = {\n",
        "    0: 'Ac-Cc',\n",
        "    1: 'Ci-Cs',\n",
        "    2: 'Clear-sky',\n",
        "    3: 'Cb-Ns',\n",
        "    4: 'Cu',\n",
        "    5: 'Sc-St-As'\n",
        "}\n",
        "\n",
        "features_df['Cloud_class'] = features_df['Predictions'].map(num_to_class)"
      ],
      "metadata": {
        "id": "NJSv8_7SOqTw"
      },
      "execution_count": null,
      "outputs": []
    }
  ]
}